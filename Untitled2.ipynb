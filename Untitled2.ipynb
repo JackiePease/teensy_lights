{
 "cells": [
  {
   "cell_type": "code",
   "execution_count": 11,
   "metadata": {},
   "outputs": [
    {
     "name": "stdout",
     "output_type": "stream",
     "text": [
      "\u001b[34mConnecting to --port=/dev/ttyUSB0 --baud=115200 \u001b[0m\n",
      "\u001b[34mReady.\n",
      "\u001b[0m"
     ]
    }
   ],
   "source": [
    "%serialconnect\n"
   ]
  },
  {
   "cell_type": "code",
   "execution_count": 42,
   "metadata": {},
   "outputs": [
    {
     "name": "stdout",
     "output_type": "stream",
     "text": [
      "Sent 50 lines (1768 bytes) to lights.py.\n"
     ]
    }
   ],
   "source": [
    "%sendtofile lights.py\n",
    "\n",
    "from machine import Pin\n",
    "from neopixel import NeoPixel\n",
    "import time\n",
    "\n",
    "n = 7 # Set the number of pixels on your NeoPixel\n",
    "pin = Pin(5, Pin.OUT)   # setup GPIO5 pin (D1) as output to drive the NeoPixelsi\n",
    "np = NeoPixel(pin, n)   # create NeoPixel object on GPIO5, for n pixels\n",
    "np[0] = (255, 255, 255) # set the first pixel to white\n",
    "np.write()              # write data to all pixels\n",
    "np[0] = (0, 0, 0) # set the first pixel to nothing (black)\n",
    "np.write()              # write data to all pixels\n",
    "\n",
    "def single_colour(r, g, b, brightness):\n",
    "    for i in range(n):\n",
    "        np[i] = (r*brightness//100, g*brightness//100, b*brightness//100)\n",
    "    np.write() \n",
    "    \n",
    "def cycle():\n",
    "    for i in range(4 * n): # setup a loop that lasts 4 times the number of NeoPixels and turns each LED on\n",
    "        for j in range(n): # setup a nested loop that goes thru each pixel and turns the other LEDs off\n",
    "            np[j] = (0, 0, 0)\n",
    "        np[i % n] = (255, 255, 255) # turns one of n LEDs white in sequence with modulo ie 1 % 7 = 0, 7 % 7 = 0..8 % 7 = 1, 9 & 7 = 2..13 % 7 = 6, 14 % 7 = 0, and onwards to 4 * n\n",
    "        np.write() # write to all LEDs\n",
    "        time.sleep_ms(25) # sleep for 25 microseconds\n",
    "\n",
    "def bounce():\n",
    "    for i in range(4 * n):\n",
    "        for j in range(n):\n",
    "            np[j] = (0, 0, 128)\n",
    "        if (i // n) % 2 == 0:\n",
    "            np[i % n] = (0, 0, 0)\n",
    "        else:\n",
    "            np[n - 1 - (i % n)] = (0, 0, 0)\n",
    "        np.write()\n",
    "        time.sleep_ms(60)\n",
    "\n",
    "def fade():\n",
    "    for i in range(0, 4 * 256, 8):\n",
    "        for j in range(n):\n",
    "            if (i // 256) % 2 == 0:\n",
    "                val = i & 0xff\n",
    "            else:\n",
    "                val = 255 - (i & 0xff)\n",
    "            np[j] = (val, 0, 0)\n",
    "        np.write()\n",
    "\n",
    "def clear():\n",
    "    for i in range(n):\n",
    "        np[i] = (0, 0, 0)\n",
    "    np.write()\n"
   ]
  },
  {
   "cell_type": "code",
   "execution_count": 50,
   "metadata": {},
   "outputs": [
    {
     "name": "stdout",
     "output_type": "stream",
     "text": [
      "Sent 13 lines (222 bytes) to main.py.\n"
     ]
    }
   ],
   "source": [
    "%sendtofile main.py\n",
    "\n",
    "from lights import * #import all of the things in lights.py\n",
    "import time\n",
    "\n",
    "while True:\n",
    "    fade()\n",
    "    time.sleep_ms(25)\n",
    "    clear()\n",
    "    bounce()\n",
    "    time.sleep_ms(25)\n",
    "    clear()\n",
    "    cycle()\n",
    "    time.sleep_ms(25)\n",
    "    clear()"
   ]
  },
  {
   "cell_type": "code",
   "execution_count": 48,
   "metadata": {},
   "outputs": [
    {
     "name": "stdout",
     "output_type": "stream",
     "text": [
      "\u001b[34mConnecting to --port=/dev/ttyUSB0 --baud=115200 \u001b[0m\n",
      "\u001b[34mReady.\n",
      "\u001b[0m"
     ]
    }
   ],
   "source": [
    "%serialconnect\n"
   ]
  },
  {
   "cell_type": "code",
   "execution_count": 45,
   "metadata": {},
   "outputs": [
    {
     "name": "stdout",
     "output_type": "stream",
     "text": [
      "257\n",
      "258\n",
      "258\n",
      "483\n",
      "470\n",
      "267\n",
      "462\n",
      "464\n",
      "448\n",
      "442\n",
      ".256\n",
      "260\n",
      "256\n",
      "257\n",
      "256\n",
      "258\n",
      "223\n",
      "223\n",
      "225\n",
      "223\n",
      ".276\n",
      "238\n",
      "\u001b[34m\n",
      "\n",
      "*** Sending Ctrl-C\n",
      "\n",
      "\u001b[0m"
     ]
    },
    {
     "name": "stderr",
     "output_type": "stream",
     "text": [
      "Traceback (most recent call last):\n",
      "  File \"<stdin>\", line 8, in <module>\n",
      "KeyboardInterrupt: \n"
     ]
    }
   ],
   "source": [
    "from machine import ADC\n",
    "import time\n",
    "adc = ADC(0)\n",
    "\n",
    "while True:\n",
    "    val = adc.read()\n",
    "    print(val)\n",
    "    time.sleep(1)"
   ]
  },
  {
   "cell_type": "code",
   "execution_count": null,
   "metadata": {},
   "outputs": [],
   "source": []
  },
  {
   "cell_type": "code",
   "execution_count": 40,
   "metadata": {},
   "outputs": [
    {
     "name": "stdout",
     "output_type": "stream",
     "text": [
      "\u001b[31m\n",
      "\n",
      "***Connection broken [Input/output error]\n",
      "\u001b[0mYou may need to reconnect\u001b[34m\n",
      "Closing serial Serial<id=0x7fbf0d5d90b8, open=True>(port='/dev/ttyUSB1', baudrate=115200, bytesize=8, parity='N', stopbits=1, timeout=0.5, xonxoff=False, rtscts=False, dsrdtr=False)\n",
      "\u001b[0m\u001b[31mNo serial connected\n",
      "\u001b[0m  %serialconnect to connect\n",
      "  %esptool to flash the device\n",
      "  %lsmagic to list commands"
     ]
    }
   ],
   "source": [
    "from machine import ADC\n",
    "import time\n",
    "from lights import *\n",
    "adc = ADC(0)\n",
    "lastval = 40\n",
    "clear()\n",
    "single_colour(128, 0, 128, 50)\n",
    "while True:\n",
    "    val = adc.read()\n",
    "    val = val // 7\n",
    "    if val > 4:\n",
    "        val = 4\n",
    "    print(val)\n",
    "    if val == 0:\n",
    "        single_colour(255, 0, 0, 100)\n",
    "    elif val == 1:\n",
    "        single_colour(0, 255, 0, 100)\n",
    "    elif val == 2: \n",
    "        single_colour(0, 0, 255, 100)\n",
    "    elif val == 3:\n",
    "        single_colour(0, 255, 255, 100)\n",
    "    elif val == 4:\n",
    "        single_colour(255, 255, 0, 100)\n",
    "    else:\n",
    "        val == 7\n",
    "    lastval = val\n",
    "    "
   ]
  },
  {
   "cell_type": "code",
   "execution_count": 73,
   "metadata": {},
   "outputs": [
    {
     "name": "stdout",
     "output_type": "stream",
     "text": [
      "\u001b[34mConnecting to --port=/dev/ttyUSB1 --baud=115200 \u001b[0m\n",
      "\u001b[34mReady.\n",
      "\u001b[0m"
     ]
    }
   ],
   "source": [
    "%serialconnect"
   ]
  },
  {
   "cell_type": "code",
   "execution_count": 74,
   "metadata": {},
   "outputs": [
    {
     "name": "stdout",
     "output_type": "stream",
     "text": [
      "Sent 26 lines (457 bytes) to main.py.\n"
     ]
    }
   ],
   "source": [
    "%sendtofile main.py\n",
    "\n",
    "from machine import Signal, Pin, ADC\n",
    "from time import sleep\n",
    "from lights import *\n",
    "\n",
    "ledPin2 = machine.Pin(2, machine.Pin.OUT)\n",
    "Led2 = Signal(ledPin2, invert=True)\n",
    "\n",
    "adc = ADC(0)\n",
    "\n",
    "val = 0\n",
    "lastledOn = False\n",
    "ledOn = False\n",
    "\n",
    "while True:\n",
    "  val = adc.read()\n",
    "  if val < 250:\n",
    "    ledOn = True\n",
    "  else:\n",
    "    ledOn = False\n",
    "\n",
    "  if ledOn != lastledOn:\n",
    "    if ledOn == True:\n",
    "      single_colour(255, 0, 255, 5)\n",
    "    else:\n",
    "      single_colour(0, 255, 255, 5)\n",
    "    lastledOn = ledOn"
   ]
  },
  {
   "cell_type": "code",
   "execution_count": 61,
   "metadata": {},
   "outputs": [
    {
     "name": "stdout",
     "output_type": "stream",
     "text": [
      "\u001b[34mNo possible ports found\u001b[0m\u001b[34mConnecting to --port=/dev/ttyUSB0 --baud=115200 \u001b[0mcould not open port /dev/ttyUSB0: [Errno 2] No such file or directory: '/dev/ttyUSB0'\n",
      "\u001b[34m\n",
      "Are you sure your ESP-device is plugged in?\u001b[0m"
     ]
    }
   ],
   "source": [
    "%serialconnect"
   ]
  },
  {
   "cell_type": "code",
   "execution_count": 67,
   "metadata": {},
   "outputs": [
    {
     "name": "stdout",
     "output_type": "stream",
     "text": [
      "Sent 18 lines (294 bytes) to main.py.\n"
     ]
    }
   ],
   "source": [
    "%sendtofile main.py\n",
    "\n",
    "from machine import Signal, Pin, ADC\n",
    "from time import sleep\n",
    "from lights import *\n",
    "\n",
    "ledPin2 = machine.Pin(2, machine.Pin.OUT)\n",
    "Led2 = Signal(ledPin2, invert=True)\n",
    "\n",
    "adc = ADC(0)\n",
    "val =50\n",
    "\n",
    "while True:\n",
    "    val = adc.read() \n",
    "    #print(val)\n",
    "    \n",
    "    if val < 250:\n",
    "      cycle()\n",
    "    else:\n",
    "      bounce()"
   ]
  },
  {
   "cell_type": "code",
   "execution_count": 24,
   "metadata": {},
   "outputs": [
    {
     "name": "stdout",
     "output_type": "stream",
     "text": [
      "\u001b[31m\n",
      "\n",
      "***Connection broken [Input/output error]\n",
      "\u001b[0mYou may need to reconnect\u001b[34m\n",
      "Closing serial Serial<id=0x7fbf0d5d38d0, open=True>(port='/dev/ttyUSB0', baudrate=115200, bytesize=8, parity='N', stopbits=1, timeout=0.5, xonxoff=False, rtscts=False, dsrdtr=False)\n",
      "\u001b[0m\u001b[31mNo serial connected\n",
      "\u001b[0m  %serialconnect to connect\n",
      "  %esptool to flash the device\n",
      "  %lsmagic to list commands"
     ]
    }
   ],
   "source": [
    "%sendtofile lights.py\n",
    "from machine import Pin\n",
    "from neopixel import NeoPixel\n",
    "import time\n",
    "\n",
    "n =  7# Set the number of pixels on your NeoPixel\n",
    "pin = Pin(5, Pin.OUT)   # setup GPIO5 pin (D1) as output to drive the NeoPixelsi\n",
    "np = NeoPixel(pin, n)   # create NeoPixel object on GPIO5, for n pixels\n",
    "np[0] = (255, 255, 255) # set the first pixel to white\n",
    "np.write()              # write data to all pixels\n",
    "np[0] = (0, 0, 0) # set the first pixel to nothing (black)\n",
    "np.write()              # write data to all pixels\n",
    "\n",
    "def single_colour(r, g, b, brightness):\n",
    "\n",
    "    for i in range(n):\n",
    "        np[i] = (r*brightness//100, g*brightness//100, b*brightness//100)\n",
    "    np.write()"
   ]
  },
  {
   "cell_type": "code",
   "execution_count": null,
   "metadata": {},
   "outputs": [],
   "source": []
  }
 ],
 "metadata": {
  "kernelspec": {
   "display_name": "MicroPython - USB",
   "language": "micropython",
   "name": "micropython"
  },
  "language_info": {
   "codemirror_mode": "python",
   "file_extension": ".py",
   "mimetype": "text/python",
   "name": "micropython"
  }
 },
 "nbformat": 4,
 "nbformat_minor": 2
}
